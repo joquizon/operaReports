{
 "cells": [
  {
   "cell_type": "code",
   "execution_count": 29,
   "metadata": {},
   "outputs": [],
   "source": []
  },
  {
   "cell_type": "code",
   "execution_count": 30,
   "metadata": {},
   "outputs": [],
   "source": []
  },
  {
   "cell_type": "code",
   "execution_count": 51,
   "metadata": {},
   "outputs": [],
   "source": [
    "from reportlab.platypus import SimpleDocTemplate\n",
    "from reportlab.platypus import Table\n",
    "from reportlab.lib.pagesizes import letter\n",
    "\n",
    "# your data sets...1st row is categories  \n",
    "data=[['AAAA','BBB','C','DDD','EE','F'],['a1','b1','c1','d1','e1','f1'],['a22','b22','c22','d22','e22','f22'],['a333','b333','c333','d333','e333','f333']]\n",
    "\n",
    "# list holds things to go on PDF\n",
    "elements = []\n",
    "\n",
    "# pdf file\n",
    "samplr = 'Pdf Table Samp2.pdf'\n",
    "\n",
    "# pdf file properties\n",
    "pdf = SimpleDocTemplate(samplr,pagesize = letter )\n",
    "\n",
    "# puts data in table\n",
    "table = Table(data)\n",
    "\n",
    "# puts table in elements list\n",
    "elements.append(table)\n",
    "\n",
    "# styles your elements\n",
    "from reportlab.platypus import TableStyle\n",
    "from reportlab.lib import colors\n",
    "\n",
    "format1 = TableStyle([\n",
    "    ('BACKGROUND', (0,0), (-1,0), colors.black),\n",
    "    ('TEXTCOLOR',(0,0),(-1,0),colors.white),\n",
    "    ('ALIGN',(0,0),(-1,-1),'CENTER'),\n",
    "    \n",
    "    ('FONTNAME',(0,0), (-1,0), 'Helvetica'),\n",
    "    ('FONTSIZE',(0,0), (-1,0), 14),\n",
    "    \n",
    "    ('BOTTOMPADDING',(0,0), (-1,0), 7)\n",
    "])\n",
    "\n",
    "table.setStyle(format1)\n",
    "\n",
    "rowNum = len(data)\n",
    "for i in range(1,rowNum):\n",
    "    if i%2 ==  0:\n",
    "        bg = colors.lightgrey\n",
    "    else:\n",
    "        bg = colors.white\n",
    "    ts = TableStyle([('BACKGROUND', (0,i),(-1,i),bg)])\n",
    "    table.setStyle(ts)\n",
    "\n",
    "# creates the pdf\n",
    "pdf.build(elements)"
   ]
  },
  {
   "cell_type": "code",
   "execution_count": null,
   "metadata": {},
   "outputs": [],
   "source": []
  },
  {
   "cell_type": "code",
   "execution_count": null,
   "metadata": {},
   "outputs": [],
   "source": []
  },
  {
   "cell_type": "code",
   "execution_count": null,
   "metadata": {},
   "outputs": [],
   "source": []
  },
  {
   "cell_type": "code",
   "execution_count": null,
   "metadata": {},
   "outputs": [],
   "source": []
  }
 ],
 "metadata": {
  "kernelspec": {
   "display_name": "Python 3",
   "language": "python",
   "name": "python3"
  },
  "language_info": {
   "codemirror_mode": {
    "name": "ipython",
    "version": 3
   },
   "file_extension": ".py",
   "mimetype": "text/x-python",
   "name": "python",
   "nbconvert_exporter": "python",
   "pygments_lexer": "ipython3",
   "version": "3.7.6"
  }
 },
 "nbformat": 4,
 "nbformat_minor": 4
}
