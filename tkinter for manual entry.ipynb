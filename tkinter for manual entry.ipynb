{
 "cells": [
  {
   "cell_type": "code",
   "execution_count": 1,
   "metadata": {},
   "outputs": [],
   "source": [
    "labelfont = 'helvetica 12 italic'\n",
    "labelFG = 'gray26'\n",
    "labelBG  = 'white'\n",
    "inputfont = 'helvetica 14'\n",
    "inputFG = 'black'\n",
    "inputBG = 'gray91'\n",
    "inputBG2 = 'gray70'\n",
    "paddingX =3 \n",
    "paddingY =5\n"
   ]
  },
  {
   "cell_type": "code",
   "execution_count": null,
   "metadata": {},
   "outputs": [
    {
     "name": "stdout",
     "output_type": "stream",
     "text": [
      "[['', '', '', '', '', '']]\n"
     ]
    },
    {
     "name": "stderr",
     "output_type": "stream",
     "text": [
      "Exception in Tkinter callback\n",
      "Traceback (most recent call last):\n",
      "  File \"C:\\Users\\joseq\\anaconda3\\lib\\tkinter\\__init__.py\", line 1705, in __call__\n",
      "    return self.func(*args)\n",
      "  File \"<ipython-input-126-8d265c2633ba>\", line 36, in click\n",
      "    entryMainPrinter()\n",
      "  File \"<ipython-input-126-8d265c2633ba>\", line 12, in entryMainPrinter\n",
      "    Button['command'] = lambda b=button:b.grid_forget()\n",
      "NameError: name 'button' is not defined\n"
     ]
    }
   ],
   "source": [
    "import tkinter \n",
    "from tkinter import *\n",
    "entryMain = []\n",
    "\n",
    "# function called by submit button\n",
    "\n",
    "def manualNOshowEntry():\n",
    "    def entryMainPrinter():\n",
    "        for x in range (len(entryMain)):\n",
    "            Label (window, text=f'{x}.....{entryMain[x]}',bg = labelBG, fg='blue', font=inputfont) .grid (row = x+5,column='0',columnspan= 4, sticky = E)\n",
    "            Button (window, text='Remove this line',font='helvetica 10 italic',width = 15, command = lambda *args: clickPop(x)) .grid(row= x+5, column=5, sticky = E)\n",
    "            Button['command'] = lambda b=button:b.grid_forget()\n",
    "    def click():\n",
    "        entryAdder =[]\n",
    "    #     this collects whatever is typed into input window\n",
    "        entered_text = inputbox1.get()\n",
    "        entryAdder.append(entered_text)\n",
    "        \n",
    "        entered_text2 = inputbox2.get()\n",
    "        entryAdder.append(entered_text2)\n",
    "        \n",
    "        entered_text3 = inputbox3.get()\n",
    "        entryAdder.append(entered_text3)\n",
    "        \n",
    "        entered_text4 = inputbox4.get()\n",
    "        entryAdder.append(entered_text4)\n",
    "        \n",
    "        entered_text5 = inputbox5.get()\n",
    "        entryAdder.append(entered_text5)\n",
    "        \n",
    "        entered_text6 = inputbox6.get()\n",
    "        entryAdder.append(entered_text6)\n",
    "        \n",
    "        entryMain.append(entryAdder)\n",
    "        print(entryMain)\n",
    "        entryMainPrinter()\n",
    "        inputbox1.delete(0,END)\n",
    "        inputbox2.delete(0,END)\n",
    "        inputbox3.delete(0,END)\n",
    "        inputbox4.delete(0,END) \n",
    "        inputbox5.delete(0,END)\n",
    "        inputbox6.delete(0,END)\n",
    "        \n",
    "        \n",
    "\n",
    "\n",
    "    window = Tk()\n",
    "    # creates title in window border\n",
    "    window.title('OPERA Night Audit Manager Pack creator')\n",
    "    window.configure(background ='white')\n",
    "    window.geometry('1920x400')\n",
    "    # sets properties of the window\n",
    "\n",
    "\n",
    "#     # # sets properties of an image in the window and creates it\n",
    "#     photo1 = PhotoImage(file = 'oprah.gif', format = 'gif -index 2')\n",
    "#     Label (window, image = photo1, bg= 'gray') .grid(row =0, column = 2, sticky =E)\n",
    "\n",
    "    labelfont = 'helvetica 12 italic'\n",
    "    labelFG = 'gray26'\n",
    "    labelBG  = 'white'\n",
    "    # sets properties and creates text in the window ... bg is text background fg is(foreground) color for font\n",
    "    Label (window, text='No show',bg = labelBG, fg=labelFG, font=labelfont) .grid (row = 1,column='0', sticky = E)\n",
    "    Label (window, text='Res No.',bg = labelBG, fg=labelFG, font=labelfont) .grid (row = 1,column='1', sticky = E)\n",
    "    Label (window, text='Nights',bg = labelBG, fg=labelFG, font=labelfont) .grid (row = 1,column='2', sticky = E)\n",
    "    Label (window, text='Company',bg = labelBG, fg=labelFG, font=labelfont) .grid (row = 1,column='3', sticky = E)\n",
    "    Label (window, text='Group',bg = labelBG, fg=labelFG, font=labelfont) .grid (row = 1,column='4', sticky = E)\n",
    "    Label (window, text='Travel Agent',bg = labelBG, fg=labelFG, font=labelfont) .grid (row = 1,column='5', sticky = E)\n",
    "\n",
    "\n",
    "    inputfont = 'helvetica 14'\n",
    "    inputFG = 'black'\n",
    "    inputBG = 'gray91'\n",
    "    inputBG2 = 'gray70'\n",
    "    paddingX =3 \n",
    "    paddingY =5\n",
    "    # sets properties and creates input window\n",
    "    inputbox1 = Entry(window, width = 20, bg=inputBG,fg=inputFG ,font = inputfont)\n",
    "    inputbox1.grid(row = 3, column = 0,padx = paddingX, pady= paddingY, sticky = E)\n",
    "    inputbox2 = Entry(window, width = 20, bg=inputBG2 ,fg=inputFG ,font = inputfont)\n",
    "    inputbox2 .grid(row = 3, column = 1,padx = paddingX, pady= paddingY, sticky = E)\n",
    "    inputbox3 = Entry(window, width = 20, bg=inputBG,fg=inputFG ,font = inputfont)\n",
    "    inputbox3 .grid(row = 3, column = 2,padx = paddingX, pady= paddingY, sticky = E)\n",
    "    inputbox4 = Entry(window, width = 20, bg=inputBG2 ,fg=inputFG ,font = inputfont)\n",
    "    inputbox4 .grid(row = 3, column = 3,padx = paddingX, pady= paddingY, sticky = E)\n",
    "    inputbox5 = Entry(window, width = 20, bg=inputBG,fg=inputFG ,font = inputfont)\n",
    "    inputbox5 .grid(row = 3, column = 4,padx = paddingX, pady= paddingY, sticky = E)\n",
    "    inputbox6 = Entry(window, width = 20, bg=inputBG2 ,fg=inputFG ,font = inputfont)\n",
    "    inputbox6 .grid(row = 3, column = 5,padx = paddingX, pady= paddingY, sticky = E)\n",
    "    \n",
    "    def click2():\n",
    "        print('clicked~~~')\n",
    "        window.destroy()\n",
    "\n",
    "    def clickPop(remover):\n",
    "        print('pass')\n",
    "        entryMain.pop(remover)\n",
    "        print('success')\n",
    "        print(entryMain)\n",
    "        print(remover)\n",
    "\n",
    "        \n",
    "\n",
    "        \n",
    "    # set properties and creates submit button\n",
    "\n",
    "    btn1=Button(window, text='Submit',width = 6, command = click) .grid(row= 3, column= 6, sticky = E)\n",
    "    \n",
    "    btn2=Button(window, text='Done',font='helvetica 10 italic',width = 6, command = click2) .grid(row= 0, column= 6, sticky = E)\n",
    "\n",
    "    window.mainloop()\n",
    "manualNOshowEntry()"
   ]
  },
  {
   "cell_type": "code",
   "execution_count": 82,
   "metadata": {},
   "outputs": [
    {
     "name": "stdout",
     "output_type": "stream",
     "text": [
      "[['efdfsadffsf', 'agdffa', 'gsdgda', 'dgsg', 'gdga', '000000000000']]\n"
     ]
    }
   ],
   "source": [
    "print(entryMainainryMainryMain)"
   ]
  },
  {
   "cell_type": "code",
   "execution_count": 49,
   "metadata": {},
   "outputs": [
    {
     "name": "stdout",
     "output_type": "stream",
     "text": [
      "yes\n"
     ]
    }
   ],
   "source": [
    "def manualNoShowQ():\n",
    "    window = Tk()\n",
    "    # creates title in window border\n",
    "    window.title('OPERA Night Audit Manager Pack creator')\n",
    "    window.configure(background ='white')\n",
    "    window.geometry('400x200')\n",
    "\n",
    "    def response(a):\n",
    "        entered_text = answer.get()\n",
    "        if entered_text == 'y':\n",
    "            print('yes')\n",
    "            window.destroy()\n",
    "            manualNOshowEntry()\n",
    "\n",
    "        elif entered_text == 'n':\n",
    "            print('no')\n",
    "            answer.delete(0,END)\n",
    "            lbl2['text']= f'ok cool'\n",
    "            window.after(1000,window.destroy)\n",
    "            \n",
    "        else:\n",
    "            print(f'ERROR////69\\\\\\\\\\\\\\\\ny or n only Dude!!!\\nTry Again!')\n",
    "            answer.delete(0,END)\n",
    "            lbl2['text']= f'ERROR////69\\\\\\\\\\\\\\ \\ny or n only Dude!!!\\nTry Again!'\n",
    "            \n",
    "    \n",
    "    lbl1 = Label (window, text='Do you need to manually enter a no show? <y> or <n>',bg = labelBG, fg=labelFG, font=labelfont)\n",
    "    lbl1.grid (row = 0,column='0', sticky = N)\n",
    "       \n",
    "    lbl2 = Label (window, text='',bg = labelBG, fg='red', font=labelfont)\n",
    "    lbl2.grid (row = 2,column='0', sticky = N)\n",
    "    \n",
    "    answer = Entry(window, width = 20, bg=inputBG,fg=inputFG ,font = inputfont, justify = 'center')\n",
    "    answer.grid(row = 1, column = 0,padx = paddingX, pady= paddingY, sticky = N)\n",
    "    \n",
    "#     punch = Button(window, text='Submit',width = 6, command = response) \n",
    "#     punch.grid(row= 2, column= 0, sticky = N)\n",
    "\n",
    "    answer.bind('<Return>',response)\n",
    "    window.mainloop()\n",
    "manualNoShowQ()"
   ]
  },
  {
   "cell_type": "code",
   "execution_count": null,
   "metadata": {},
   "outputs": [],
   "source": []
  },
  {
   "cell_type": "code",
   "execution_count": null,
   "metadata": {},
   "outputs": [],
   "source": []
  }
 ],
 "metadata": {
  "kernelspec": {
   "display_name": "Python 3",
   "language": "python",
   "name": "python3"
  },
  "language_info": {
   "codemirror_mode": {
    "name": "ipython",
    "version": 3
   },
   "file_extension": ".py",
   "mimetype": "text/x-python",
   "name": "python",
   "nbconvert_exporter": "python",
   "pygments_lexer": "ipython3",
   "version": "3.7.6"
  }
 },
 "nbformat": 4,
 "nbformat_minor": 4
}
