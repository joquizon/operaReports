{
 "cells": [
  {
   "cell_type": "code",
   "execution_count": 238,
   "metadata": {},
   "outputs": [
    {
     "name": "stdout",
     "output_type": "stream",
     "text": [
      "<xml.etree.ElementTree.ElementTree object at 0x00000201EA5F9BC8>\n"
     ]
    }
   ],
   "source": [
    "# history and forecast report\n",
    "\n",
    "import os\n",
    "from xml.etree import ElementTree\n",
    "# hist and forec data\n",
    "forecastx = 'forecast2.xml'\n",
    "forecastz = os.path.join('xmltut',forecastx)\n",
    "forecastf = ElementTree.parse(forecastz)\n",
    "print(forecastf)"
   ]
  },
  {
   "cell_type": "code",
   "execution_count": 239,
   "metadata": {
    "scrolled": true
   },
   "outputs": [
    {
     "name": "stdout",
     "output_type": "stream",
     "text": [
      "12-31-20 Thu\n",
      "0%\n",
      "0\n",
      "0\n",
      "0\n",
      "0\n",
      "$0\n",
      " \n",
      "\n",
      "01-01-21 Fri\n",
      "0%\n",
      "0\n",
      "0\n",
      "0\n",
      "0\n",
      "$0\n",
      " \n",
      "\n",
      "01-02-21 Sat\n",
      "0%\n",
      "0\n",
      "0\n",
      "0\n",
      "0\n",
      "$0\n",
      " \n",
      "\n",
      "01-03-21 Sun\n",
      "0%\n",
      "0\n",
      "0\n",
      "0\n",
      "0\n",
      "$0\n",
      " \n",
      "\n",
      "01-04-21 Mon\n",
      "0%\n",
      "0\n",
      "0\n",
      "0\n",
      "0\n",
      "$0\n",
      " \n",
      "\n",
      "01-05-21 Tue\n",
      "0%\n",
      "0\n",
      "0\n",
      "0\n",
      "0\n",
      "$0\n",
      " \n",
      "\n",
      "01-06-21 Wed\n",
      "0%\n",
      "0\n",
      "0\n",
      "0\n",
      "0\n",
      "$0\n",
      " \n",
      "\n"
     ]
    }
   ],
   "source": [
    "for x in range(2,9):\n",
    "    route = f'LIST_G_GPAGEID/G_GPAGEID/LIST_G_REC_TYPE/G_REC_TYPE[2]/LIST_G_CONSIDERED_DATE/G_CONSIDERED_DATE[{x}]/'\n",
    "    dates = forecastf.findall(f'{route}CHAR_CONSIDERED_DATE')\n",
    "    occ = forecastf.findall(f'{route}CF_OCCUPANCY')\n",
    "    rmsres = forecastf.findall(f'{route}NO_ROOMS')\n",
    "    arrs = forecastf.findall(f'{route}ARRIVAL_ROOMS')\n",
    "    deps = forecastf.findall(f'{route}DEPARTURE_ROOMS')\n",
    "    avgr = forecastf.findall(f'{route}CF_AVERAGE_ROOM_RATE')\n",
    "    for c in dates:\n",
    "        print(c.text)\n",
    "\n",
    "    for d in occ:\n",
    "        print(f'{d.text}%')\n",
    "\n",
    "    for e in rmsres:\n",
    "        print(e.text)\n",
    "\n",
    "    for f in arrs:\n",
    "        print(f.text)\n",
    "\n",
    "    for g in deps:\n",
    "        print(g.text)\n",
    "\n",
    "    for h in deps:\n",
    "        print(h.text)\n",
    "        \n",
    "    for i in avgr:\n",
    "        print(f'${i.text}')\n",
    "    print(' \\n')\n"
   ]
  },
  {
   "cell_type": "code",
   "execution_count": 240,
   "metadata": {},
   "outputs": [
    {
     "name": "stdout",
     "output_type": "stream",
     "text": [
      "<xml.etree.ElementTree.ElementTree object at 0x00000201E8DF51C8>\n"
     ]
    }
   ],
   "source": [
    "\n",
    "# Manager report\n",
    "\n",
    "mgrx = 'mgr.xml'\n",
    "mgrz = os.path.join('xmltut',mgrx)\n",
    "mgrf = ElementTree.parse(mgrz)\n",
    "print(mgrf)"
   ]
  },
  {
   "cell_type": "code",
   "execution_count": 241,
   "metadata": {},
   "outputs": [
    {
     "name": "stdout",
     "output_type": "stream",
     "text": [
      "Total Rooms Reserved 0\n",
      "House Use 0\n",
      "Rooms Occupied 0%\n",
      "Total Revenue 0\n"
     ]
    }
   ],
   "source": [
    "\n",
    "linefind = mgrf.findall('LIST_G_MASTER_VALUE_ORDER/G_MASTER_VALUE_ORDER/LIST_G_LAST_YEAR_01/G_LAST_YEAR_01/LIST_G_CROSS/G_CROSS/LIST_G_MASTER_VALUE/G_MASTER_VALUE/SUB_GRP_1_ORDER')\n",
    "\n",
    "for lf in range(0,99):\n",
    "    if linefind[lf].text == '30000':\n",
    "        mroute = mgrf.findall(f'LIST_G_MASTER_VALUE_ORDER/G_MASTER_VALUE_ORDER/LIST_G_LAST_YEAR_01/G_LAST_YEAR_01/LIST_G_CROSS/G_CROSS/LIST_G_MASTER_VALUE/G_MASTER_VALUE[{lf}]/LIST_G_HEADING_1_ORDER/G_HEADING_1_ORDER/LIST_G_SUM_AMOUNT/G_SUM_AMOUNT/SUM_AMOUNT')\n",
    "        print(f'Total Rooms Reserved {mroute[0].text}')\n",
    "    elif linefind[lf].text == '80000':\n",
    "        mroute = mgrf.findall(f'LIST_G_MASTER_VALUE_ORDER/G_MASTER_VALUE_ORDER/LIST_G_LAST_YEAR_01/G_LAST_YEAR_01/LIST_G_CROSS/G_CROSS/LIST_G_MASTER_VALUE/G_MASTER_VALUE[{lf}]/LIST_G_HEADING_1_ORDER/G_HEADING_1_ORDER/LIST_G_SUM_AMOUNT/G_SUM_AMOUNT/SUM_AMOUNT')\n",
    "        print(f'House Use {mroute[0].text}')\n",
    "    elif linefind[lf].text == '860000':\n",
    "        mroute = mgrf.findall(f'LIST_G_MASTER_VALUE_ORDER/G_MASTER_VALUE_ORDER/LIST_G_LAST_YEAR_01/G_LAST_YEAR_01/LIST_G_CROSS/G_CROSS/LIST_G_MASTER_VALUE/G_MASTER_VALUE[{lf}]/LIST_G_HEADING_1_ORDER/G_HEADING_1_ORDER/LIST_G_SUM_AMOUNT/G_SUM_AMOUNT/SUM_AMOUNT')\n",
    "        print(f'Total Revenue {mroute[0].text}')\n",
    "    elif linefind[lf].text == '300000':\n",
    "        mroute = mgrf.findall(f'LIST_G_MASTER_VALUE_ORDER/G_MASTER_VALUE_ORDER/LIST_G_LAST_YEAR_01/G_LAST_YEAR_01/LIST_G_CROSS/G_CROSS/LIST_G_MASTER_VALUE/G_MASTER_VALUE[{lf}]/LIST_G_HEADING_1_ORDER/G_HEADING_1_ORDER/LIST_G_SUM_AMOUNT/G_SUM_AMOUNT/SUM_AMOUNT')\n",
    "        print(f'Rooms Occupied {mroute[0].text}%')\n",
    "\n",
    "\n"
   ]
  },
  {
   "cell_type": "code",
   "execution_count": 335,
   "metadata": {},
   "outputs": [
    {
     "name": "stdout",
     "output_type": "stream",
     "text": [
      "<xml.etree.ElementTree.ElementTree object at 0x00000201E91ED1C8>\n"
     ]
    }
   ],
   "source": [
    "# detailed availability\n",
    "\n",
    "detavx = 'detav.xml'\n",
    "detavz = os.path.join('xmltut',detavx)\n",
    "detavf = ElementTree.parse(detavz)\n",
    "print(detavf)"
   ]
  },
  {
   "cell_type": "code",
   "execution_count": 334,
   "metadata": {},
   "outputs": [
    {
     "name": "stdout",
     "output_type": "stream",
     "text": [
      "DETAILED AVAILABILITY FOR 12-30-20\n",
      "QBS: 121\n",
      "SJR: 2\n",
      "VIP: 3\n",
      "TOTAL: 126\n"
     ]
    }
   ],
   "source": [
    "detroute = 'LIST_G_5/G_5/LIST_DAY/DAY[1]/'\n",
    "dater = detavf.findall(f'{detroute}BUSINESS_DATE')\n",
    "\n",
    "\n",
    "print(f'DETAILED AVAILABILITY FOR {dater[0].text}')\n",
    "numeros = []\n",
    "for zz in range(1,6):\n",
    "    subdetroute = f'{detroute}LIST_ROOM_TYPE/ROOM_TYPE'\n",
    "    numrooms = detavf.findall(f'{subdetroute}{[zz]}/LIST_DETAIL/DETAIL/NO_OF_ROOMS1')\n",
    "    numeros.append(int(numrooms[0].text))\n",
    "\n",
    "qbs = str(numeros[0] + numeros[-1])\n",
    "vip = str(numeros[2] + numeros[3])\n",
    "print(f'QBS: {qbs}')\n",
    "print(f'SJR: {str(numeros[1])}')\n",
    "print(f'VIP: {vip}')\n",
    "print(f'TOTAL: {sum(numeros)}')\n"
   ]
  },
  {
   "cell_type": "code",
   "execution_count": 336,
   "metadata": {},
   "outputs": [
    {
     "name": "stdout",
     "output_type": "stream",
     "text": [
      "<xml.etree.ElementTree.ElementTree object at 0x00000201E8E79C08>\n"
     ]
    }
   ],
   "source": [
    "# credit cards\n",
    "\n",
    "ccx = 'cred.xml'\n",
    "ccz = os.path.join('xmltut',ccx)\n",
    "ccf = ElementTree.parse(ccz)\n",
    "print(ccf)"
   ]
  },
  {
   "cell_type": "code",
   "execution_count": 343,
   "metadata": {},
   "outputs": [
    {
     "name": "stdout",
     "output_type": "stream",
     "text": [
      "8046.6\n"
     ]
    }
   ],
   "source": [
    "cctotal = ccf.findall('R_CREDIT')\n",
    "print(cctotal[0].text)"
   ]
  },
  {
   "cell_type": "code",
   "execution_count": 344,
   "metadata": {},
   "outputs": [
    {
     "name": "stdout",
     "output_type": "stream",
     "text": [
      "<xml.etree.ElementTree.ElementTree object at 0x00000201EA3BCD08>\n"
     ]
    }
   ],
   "source": [
    "# zero rate rooms\n",
    "\n",
    "zerox = 'zero.xml'\n",
    "zeroz = os.path.join('xmltut',zerox)\n",
    "zerof = ElementTree.parse(zeroz)\n",
    "print(zerof)"
   ]
  },
  {
   "cell_type": "code",
   "execution_count": 396,
   "metadata": {},
   "outputs": [
    {
     "name": "stdout",
     "output_type": "stream",
     "text": [
      "Guest 9000 // Lobby service\n",
      "No.of nights 693\n",
      "\n",
      "Guest 9010 // Sales Account\n",
      "No.of nights 80\n",
      "\n"
     ]
    }
   ],
   "source": [
    "roomhold = zerof.findall('LIST_G_ROOM/G_ROOM')\n",
    "for zr in range(1,(len(roomhold)+1)):\n",
    "    zeroroute = f'LIST_G_ROOM/G_ROOM[{zr}]'\n",
    "    roomno = zerof.findall(f'{zeroroute}/ROOM')\n",
    "    arrdate = zerof.findall(f'{zeroroute}/ARR')\n",
    "    depdate = zerof.findall(f'{zeroroute}/DEP')\n",
    "    guest = zerof.findall(f'{zeroroute}/GUEST_NAME')\n",
    "    \n",
    "    strArrdate = arrdate[0].text\n",
    "    arrdateM = strArrdate[0]+strArrdate[1]\n",
    "    arrdateD = strArrdate[3]+strArrdate[4]\n",
    "    arrdateY = strArrdate[6]+strArrdate[7]\n",
    "    \n",
    "    strDepdate = depdate[0].text\n",
    "    DepdateM = strDepdate[0]+strDepdate[1]\n",
    "    DepdateD = strDepdate[3]+strDepdate[4]\n",
    "    DepdateY = strDepdate[6]+strDepdate[7]\n",
    "    \n",
    "    from datetime import datetime\n",
    "    date_format = \"%m/%d/%Y\"\n",
    "    a = datetime.strptime(f'{arrdateM}/{arrdateD}/20{arrdateY}', date_format)\n",
    "    b = datetime.strptime(f'{DepdateM}/{DepdateD}/20{DepdateY}', date_format)\n",
    "    delta = b-a\n",
    "\n",
    "    \n",
    "    \n",
    "    print(f'Guest {roomno[0].text} // {guest[0].text}')\n",
    "    print (f'No.of nights {delta.days}\\n')"
   ]
  },
  {
   "cell_type": "code",
   "execution_count": null,
   "metadata": {},
   "outputs": [],
   "source": []
  }
 ],
 "metadata": {
  "kernelspec": {
   "display_name": "Python 3",
   "language": "python",
   "name": "python3"
  },
  "language_info": {
   "codemirror_mode": {
    "name": "ipython",
    "version": 3
   },
   "file_extension": ".py",
   "mimetype": "text/x-python",
   "name": "python",
   "nbconvert_exporter": "python",
   "pygments_lexer": "ipython3",
   "version": "3.7.6"
  }
 },
 "nbformat": 4,
 "nbformat_minor": 4
}
