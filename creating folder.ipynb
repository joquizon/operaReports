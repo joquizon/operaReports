{
 "cells": [
  {
   "cell_type": "code",
   "execution_count": 32,
   "metadata": {},
   "outputs": [
    {
     "name": "stdout",
     "output_type": "stream",
     "text": [
      "Error!check folder names\n",
      "yes\n",
      "yes\n",
      "yes\n",
      "yes\n",
      "yes\n",
      "yes\n",
      "nope\n",
      "C:\\Users\\joseq\\Documents\\operaReports\\010421\\\n",
      "gibyroom23350446.pdf\n",
      "C:\\Users\\joseq\\Documents\\operaReports\\010421\\gibyroom23350446.pdf\n",
      "gibyroom23350447.pdf\n",
      "C:\\Users\\joseq\\Documents\\operaReports\\010421\\gibyroom23350447.pdf\n",
      "guest_preferences23350448.pdf\n",
      "C:\\Users\\joseq\\Documents\\operaReports\\010421\\guest_preferences23350448.pdf\n",
      "manager_report23350451.pdf\n",
      "C:\\Users\\joseq\\Documents\\operaReports\\010421\\manager_report23350451.pdf\n",
      "res_detail23350453.pdf\n",
      "C:\\Users\\joseq\\Documents\\operaReports\\010421\\res_detail23350453.pdf\n",
      "res_detail23350455.pdf\n",
      "C:\\Users\\joseq\\Documents\\operaReports\\010421\\res_detail23350455.pdf\n"
     ]
    }
   ],
   "source": [
    "import os\n",
    "from datetime import datetime\n",
    "from datetime import date\n",
    "from datetime import timedelta\n",
    "import PyPDF2\n",
    "from PyPDF2 import PdfFileMerger\n",
    "\n",
    "# creates the folder\n",
    "def createFolder(directory):\n",
    "    already = os.path.exists(directory)\n",
    "    if already is False:\n",
    "        os.makedirs(directory)\n",
    "        print(f'folder {directory} has been created!')\n",
    "    else:\n",
    "        print('Error!check folder names')\n",
    "\n",
    "# created folder name will move here\n",
    "Targfold = ['mergetest']\n",
    "\n",
    "# gives folder name by previous date\n",
    "def folder_maker():\n",
    "    today = date.today()\n",
    "    audited = ((today - timedelta(days = 1)).strftime('%x'))\n",
    "    foldername = audited.replace('/','')\n",
    "    createFolder(foldername)\n",
    "    Targfold[0] = foldername\n",
    "    \n",
    "folder_maker()\n",
    "\n",
    "# vars for target folder and src folder... this will call the folder name that's been created\n",
    "# targ is where files will move TO \n",
    "# src is where files will moe FROM\n",
    "\n",
    "a = r'C:\\Users\\joseq\\Documents\\operaReports'+'\\\\'+ f'{Targfold[0]}'+'\\\\'\n",
    "b = r'C:\\Users\\joseq\\Documents\\operaReports\\xmltut' +'\\\\'\n",
    "\n",
    "# this is where the pdf filenames will be filtered out and sent\n",
    "filesList = []\n",
    "\n",
    "\n",
    "# this moves files from target folder to the new created folder\n",
    "def file_mover(targfolder,src):\n",
    "#   this opens and looks at the files in src folder\n",
    "    for path, dir, files in os.walk(src):\n",
    "# if the file in the files list found in the src folder\n",
    "        if files:\n",
    "            for file in files:\n",
    "#                does not exists in the target folder and ends with pdf(as in itis a pdf file)\n",
    "                if not os.path.isfile(targfolder + file) and file[-3:]=='pdf':\n",
    "#                move it\n",
    "                    os.rename(path +'\\\\'+file,targfolder+file)\n",
    "                    print('yes')\n",
    "            else:\n",
    "                print('nope')\n",
    "        else:\n",
    "            print('error')\n",
    "    \n",
    "file_mover(a,b)\n",
    "\n",
    "\n",
    "\n",
    "def report_merger(source_dir):\n",
    "    print(source_dir)\n",
    "    \n",
    "    merger = PdfFileMerger()\n",
    "    for item in os.listdir(source_dir):\n",
    "        if item.endswith('pdf'):\n",
    "            print(item)\n",
    "            Mitem = os.path.join(source_dir,item)\n",
    "            print(Mitem)\n",
    "            merger.append(Mitem)\n",
    "            \n",
    "    merger.write(f'{source_dir}Night Audit Report {Targfold[0]}.pdf')\n",
    "    merger.close\n",
    "    \n",
    "    \n",
    "report_merger(a)"
   ]
  },
  {
   "cell_type": "code",
   "execution_count": 30,
   "metadata": {},
   "outputs": [
    {
     "data": {
      "text/plain": [
       "['gibyroom23350446.pdf',\n",
       " 'gibyroom23350447.pdf',\n",
       " 'guest_preferences23350448.pdf',\n",
       " 'manager_report23350451.pdf',\n",
       " 'res_detail23350453.pdf',\n",
       " 'res_detail23350455.pdf']"
      ]
     },
     "execution_count": 30,
     "metadata": {},
     "output_type": "execute_result"
    }
   ],
   "source": [
    "filesList\n"
   ]
  },
  {
   "cell_type": "code",
   "execution_count": null,
   "metadata": {},
   "outputs": [],
   "source": []
  }
 ],
 "metadata": {
  "kernelspec": {
   "display_name": "Python 3",
   "language": "python",
   "name": "python3"
  },
  "language_info": {
   "codemirror_mode": {
    "name": "ipython",
    "version": 3
   },
   "file_extension": ".py",
   "mimetype": "text/x-python",
   "name": "python",
   "nbconvert_exporter": "python",
   "pygments_lexer": "ipython3",
   "version": "3.7.6"
  }
 },
 "nbformat": 4,
 "nbformat_minor": 4
}
