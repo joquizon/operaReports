{
 "cells": [
  {
   "cell_type": "code",
   "execution_count": 1,
   "metadata": {},
   "outputs": [],
   "source": [
    "from datetime import datetime\n",
    "from datetime import date\n",
    "from datetime import timedelta\n",
    "\n",
    "import os\n",
    "from xml.etree import ElementTree\n",
    "\n",
    "today = date.today()\n",
    "audited = ((today - timedelta(days = 1)).strftime('%x'))\n",
    "yesterday = ((today - timedelta(days = 1)).strftime('%A'))\n",
    "\n",
    "title = [['The Maritime Hotel'],['Night Audit Report'],[yesterday], [audited]]"
   ]
  },
  {
   "cell_type": "code",
   "execution_count": 2,
   "metadata": {},
   "outputs": [
    {
     "data": {
      "text/plain": [
       "[['The Maritime Hotel'], ['Night Audit Report'], ['Thursday'], ['12/31/20']]"
      ]
     },
     "execution_count": 2,
     "metadata": {},
     "output_type": "execute_result"
    }
   ],
   "source": [
    "title"
   ]
  },
  {
   "cell_type": "code",
   "execution_count": 3,
   "metadata": {},
   "outputs": [
    {
     "name": "stdout",
     "output_type": "stream",
     "text": [
      "<xml.etree.ElementTree.ElementTree object at 0x0000015F2E729848>\n"
     ]
    }
   ],
   "source": [
    "\n",
    "statistics = [['Total Revenue'],['Total Rooms Reserved'],['% of Rooms Occupied'],['Opera CC Total']]\n",
    "\n",
    "# Manager report\n",
    "\n",
    "mgrx = 'mgr.xml'\n",
    "mgrz = os.path.join('xmltut',mgrx)\n",
    "mgrf = ElementTree.parse(mgrz)\n",
    "print(mgrf)\n",
    "\n",
    "\n",
    "linefind = mgrf.findall('LIST_G_MASTER_VALUE_ORDER/G_MASTER_VALUE_ORDER/LIST_G_LAST_YEAR_01/G_LAST_YEAR_01/LIST_G_CROSS/G_CROSS/LIST_G_MASTER_VALUE/G_MASTER_VALUE/SUB_GRP_1_ORDER')\n",
    "\n",
    "for lf in range(0,99):\n",
    "    if linefind[lf].text == '30000':\n",
    "        mroute = mgrf.findall(f'LIST_G_MASTER_VALUE_ORDER/G_MASTER_VALUE_ORDER/LIST_G_LAST_YEAR_01/G_LAST_YEAR_01/LIST_G_CROSS/G_CROSS/LIST_G_MASTER_VALUE/G_MASTER_VALUE[{lf}]/LIST_G_HEADING_1_ORDER/G_HEADING_1_ORDER/LIST_G_SUM_AMOUNT/G_SUM_AMOUNT/SUM_AMOUNT')\n",
    "#         total rooms\n",
    "        statistics[1].append(mroute[0].text)\n",
    "#     elif linefind[lf].text == '80000':\n",
    "#         mroute = mgrf.findall(f'LIST_G_MASTER_VALUE_ORDER/G_MASTER_VALUE_ORDER/LIST_G_LAST_YEAR_01/G_LAST_YEAR_01/LIST_G_CROSS/G_CROSS/LIST_G_MASTER_VALUE/G_MASTER_VALUE[{lf}]/LIST_G_HEADING_1_ORDER/G_HEADING_1_ORDER/LIST_G_SUM_AMOUNT/G_SUM_AMOUNT/SUM_AMOUNT')\n",
    "#         print(f'House Use {mroute[0].text}')\n",
    "    elif linefind[lf].text == '860000':\n",
    "        mroute = mgrf.findall(f'LIST_G_MASTER_VALUE_ORDER/G_MASTER_VALUE_ORDER/LIST_G_LAST_YEAR_01/G_LAST_YEAR_01/LIST_G_CROSS/G_CROSS/LIST_G_MASTER_VALUE/G_MASTER_VALUE[{lf}]/LIST_G_HEADING_1_ORDER/G_HEADING_1_ORDER/LIST_G_SUM_AMOUNT/G_SUM_AMOUNT/SUM_AMOUNT')\n",
    "        statistics[0].append(mroute[0].text)\n",
    "    elif linefind[lf].text == '300000':\n",
    "        mroute = mgrf.findall(f'LIST_G_MASTER_VALUE_ORDER/G_MASTER_VALUE_ORDER/LIST_G_LAST_YEAR_01/G_LAST_YEAR_01/LIST_G_CROSS/G_CROSS/LIST_G_MASTER_VALUE/G_MASTER_VALUE[{lf}]/LIST_G_HEADING_1_ORDER/G_HEADING_1_ORDER/LIST_G_SUM_AMOUNT/G_SUM_AMOUNT/SUM_AMOUNT')\n",
    "        statistics[2].append(f'{mroute[0].text}%')\n",
    "    else:\n",
    "        pass\n"
   ]
  },
  {
   "cell_type": "code",
   "execution_count": null,
   "metadata": {},
   "outputs": [],
   "source": []
  },
  {
   "cell_type": "code",
   "execution_count": 4,
   "metadata": {},
   "outputs": [
    {
     "name": "stdout",
     "output_type": "stream",
     "text": [
      "<xml.etree.ElementTree.ElementTree object at 0x0000015F2E844CC8>\n"
     ]
    }
   ],
   "source": [
    "# credit cards\n",
    "\n",
    "ccx = 'cred.xml'\n",
    "ccz = os.path.join('xmltut',ccx)\n",
    "ccf = ElementTree.parse(ccz)\n",
    "print(ccf)\n",
    "\n",
    "cctotal = ccf.findall('R_CREDIT')\n",
    "statistics[3].append(cctotal[0].text)"
   ]
  },
  {
   "cell_type": "code",
   "execution_count": 5,
   "metadata": {},
   "outputs": [
    {
     "data": {
      "text/plain": [
       "[['Total Revenue', '0'],\n",
       " ['Total Rooms Reserved', '0'],\n",
       " ['% of Rooms Occupied', '0%'],\n",
       " ['Opera CC Total', '8046.6']]"
      ]
     },
     "execution_count": 5,
     "metadata": {},
     "output_type": "execute_result"
    }
   ],
   "source": [
    "statistics"
   ]
  },
  {
   "cell_type": "code",
   "execution_count": 6,
   "metadata": {},
   "outputs": [
    {
     "name": "stdout",
     "output_type": "stream",
     "text": [
      "<xml.etree.ElementTree.ElementTree object at 0x0000015F2EABB608>\n"
     ]
    }
   ],
   "source": [
    "# detailed availability\n",
    "detailedavail = [['DETAILED AVAILABILITY as of',audited],['QBS'],['SJR'],['VIP'],['TOTAL']]\n",
    "detavx = 'detav.xml'\n",
    "detavz = os.path.join('xmltut',detavx)\n",
    "detavf = ElementTree.parse(detavz)\n",
    "print(detavf)\n",
    "\n",
    "detroute = 'LIST_G_5/G_5/LIST_DAY/DAY[1]/'\n",
    "dater = detavf.findall(f'{detroute}BUSINESS_DATE')\n",
    "\n",
    "numeros = []\n",
    "for zz in range(1,6):\n",
    "    subdetroute = f'{detroute}LIST_ROOM_TYPE/ROOM_TYPE'\n",
    "    numrooms = detavf.findall(f'{subdetroute}{[zz]}/LIST_DETAIL/DETAIL/NO_OF_ROOMS1')\n",
    "    numeros.append(int(numrooms[0].text))\n",
    "\n",
    "qbs = str(numeros[0] + numeros[-1])\n",
    "vip = str(numeros[2] + numeros[3])\n",
    "detailedavail[1].append(qbs)\n",
    "detailedavail[2].append(numeros[1])\n",
    "detailedavail[3].append(vip)\n",
    "detailedavail[4].append(sum(numeros))\n",
    "\n"
   ]
  },
  {
   "cell_type": "code",
   "execution_count": 7,
   "metadata": {},
   "outputs": [
    {
     "name": "stdout",
     "output_type": "stream",
     "text": [
      "[['DETAILED AVAILABILITY as of', '12/31/20'], ['QBS', '121'], ['SJR', 2], ['VIP', '3'], ['TOTAL', 126]]\n"
     ]
    }
   ],
   "source": [
    "print(detailedavail)"
   ]
  },
  {
   "cell_type": "code",
   "execution_count": 13,
   "metadata": {},
   "outputs": [
    {
     "name": "stdout",
     "output_type": "stream",
     "text": [
      "were there special Events tonight? - type <y> or type <n>: y\n",
      "Please list the location of the event: tv\n",
      "please list the name of the event or * if you listed the wrong location :pop\n",
      "location: tv // event: pop\n",
      "is this correct - type <y> or type <n>: y\n",
      "cool!\n",
      "Anymore Events? - type <y> or type <n>: y\n",
      "Please list the location of the event: movie\n",
      "please list the name of the event or * if you listed the wrong location :lip\n",
      "location: movie // event: lip\n",
      "is this correct - type <y> or type <n>: y\n",
      "cool!\n",
      "Anymore Events? - type <y> or type <n>: n\n",
      "[['tv', 'pop'], ['movie', 'lip']]\n",
      "is this information correct - type <y> or type <n>: n\n",
      "[0]....['tv', 'pop']\n",
      "[1]....['movie', 'lip']\n",
      "Type the no. of the wrong entry or type a if they are all wrong: 1\n",
      "[['tv', 'pop']]\n",
      "any more - type <y> or type <n>:n\n",
      "great\n"
     ]
    }
   ],
   "source": [
    "# special events\n",
    "specevBox = []\n",
    "\n",
    "def specEvQ():\n",
    "    specev = input('were there special Events tonight? - type <y> or type <n>: ')\n",
    "    if specev == 'y':\n",
    "        eventLister()\n",
    "    elif specev == 'n':\n",
    "        specevlister.append('None')\n",
    "        print('Ok cool')\n",
    "    else:\n",
    "        print('y Or n only please')\n",
    "        specEvQ()\n",
    "            \n",
    "def eventLister():\n",
    "    specevlister = []\n",
    "    \n",
    "    def infosure():\n",
    "        sure = input('is this correct - type <y> or type <n>: ')\n",
    "        if sure == 'y':\n",
    "            print('cool!')\n",
    "        elif sure =='n':\n",
    "            eventLister()\n",
    "        else:\n",
    "            infosure()\n",
    "    \n",
    "    location = input('Please list the location of the event: ')\n",
    "    eventName = input('please list the name of the event or * if you listed the wrong location :')\n",
    "    if eventName == '*':\n",
    "        eventLister()\n",
    "    print(f'location: {location} // event: {eventName}')\n",
    "    \n",
    "    infosure()\n",
    "    \n",
    "    specevlister.append(location)\n",
    "    specevlister.append(eventName)\n",
    "    specevBox.append(specevlister)\n",
    "\n",
    "    def singler():\n",
    "        allorNah = input('Type the no. of the wrong entry or type a if they are all wrong: ')\n",
    "        if allorNah == 'a':\n",
    "            specevBox.clear()\n",
    "        elif int(allorNah)< len(specevBox):\n",
    "            specevBox.pop(int(allorNah))\n",
    "            print(specevBox)\n",
    "        else:\n",
    "            print('try again please')\n",
    "            singler()\n",
    "    \n",
    "    def moreP():\n",
    "        morepop =  input('any more - type <y> or type <n>:')\n",
    "        if morepop == 'y':\n",
    "            singler()\n",
    "        elif morepop == 'n':\n",
    "            print('great')\n",
    "        else:\n",
    "            print('y Or n only please')\n",
    "            moreP()\n",
    "        \n",
    "    more = input('Anymore Events? - type <y> or type <n>: ')\n",
    "    if more == 'y':\n",
    "        eventLister()\n",
    "    elif more == 'n':\n",
    "        print(specevBox)\n",
    "        sure = input('is this information correct - type <y> or type <n>: ')\n",
    "        if sure == 'y':\n",
    "            print('great')\n",
    "        elif sure == 'n':\n",
    "            if len(specevBox)>1:\n",
    "                for x in range (len(specevBox)):\n",
    "                    print(f'{[x]}....{specevBox[x]}')\n",
    "                singler()\n",
    "                moreP()\n",
    "            elif len(specevBox) == 1:\n",
    "                specevBox.clear()\n",
    "                specEvQ()\n",
    "        else:\n",
    "            print('y Or n only please')\n",
    "    else:\n",
    "        print('y Or n only please')\n",
    "            \n",
    "            \n",
    "specEvQ()"
   ]
  },
  {
   "cell_type": "code",
   "execution_count": 14,
   "metadata": {},
   "outputs": [
    {
     "data": {
      "text/plain": [
       "[['tv', 'pop']]"
      ]
     },
     "execution_count": 14,
     "metadata": {},
     "output_type": "execute_result"
    }
   ],
   "source": [
    "specevBox"
   ]
  },
  {
   "cell_type": "code",
   "execution_count": null,
   "metadata": {},
   "outputs": [],
   "source": []
  },
  {
   "cell_type": "code",
   "execution_count": null,
   "metadata": {},
   "outputs": [],
   "source": []
  }
 ],
 "metadata": {
  "kernelspec": {
   "display_name": "Python 3",
   "language": "python",
   "name": "python3"
  },
  "language_info": {
   "codemirror_mode": {
    "name": "ipython",
    "version": 3
   },
   "file_extension": ".py",
   "mimetype": "text/x-python",
   "name": "python",
   "nbconvert_exporter": "python",
   "pygments_lexer": "ipython3",
   "version": "3.7.6"
  }
 },
 "nbformat": 4,
 "nbformat_minor": 4
}
