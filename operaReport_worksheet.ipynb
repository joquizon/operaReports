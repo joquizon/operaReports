{
 "cells": [
  {
   "cell_type": "code",
   "execution_count": 1,
   "metadata": {},
   "outputs": [],
   "source": [
    "from datetime import datetime\n",
    "from datetime import date\n",
    "from datetime import timedelta\n",
    "\n",
    "import os\n",
    "from xml.etree import ElementTree\n",
    "\n",
    "today = date.today()\n",
    "audited = ((today - timedelta(days = 1)).strftime('%x'))\n",
    "yesterday = ((today - timedelta(days = 1)).strftime('%A'))\n",
    "\n",
    "title = [['The Maritime Hotel'],['Night Audit Report'],[yesterday], [audited]]"
   ]
  },
  {
   "cell_type": "code",
   "execution_count": 2,
   "metadata": {},
   "outputs": [
    {
     "data": {
      "text/plain": [
       "[['The Maritime Hotel'], ['Night Audit Report'], ['Friday'], ['01/01/21']]"
      ]
     },
     "execution_count": 2,
     "metadata": {},
     "output_type": "execute_result"
    }
   ],
   "source": [
    "stattitle = ['STATISTICS']"
   ]
  },
  {
   "cell_type": "code",
   "execution_count": 3,
   "metadata": {},
   "outputs": [
    {
     "name": "stdout",
     "output_type": "stream",
     "text": [
      "<xml.etree.ElementTree.ElementTree object at 0x0000026D5D119B48>\n"
     ]
    }
   ],
   "source": [
    "\n",
    "statistics = [['Total Revenue'],['Total Rooms Reserved'],['% of Rooms Occupied'],['Opera CC Total']]\n",
    "\n",
    "# Manager report\n",
    "\n",
    "mgrx = 'mgr.xml'\n",
    "mgrz = os.path.join('xmltut',mgrx)\n",
    "mgrf = ElementTree.parse(mgrz)\n",
    "print(mgrf)\n",
    "\n",
    "\n",
    "linefind = mgrf.findall('LIST_G_MASTER_VALUE_ORDER/G_MASTER_VALUE_ORDER/LIST_G_LAST_YEAR_01/G_LAST_YEAR_01/LIST_G_CROSS/G_CROSS/LIST_G_MASTER_VALUE/G_MASTER_VALUE/SUB_GRP_1_ORDER')\n",
    "\n",
    "for lf in range(0,99):\n",
    "    if linefind[lf].text == '30000':\n",
    "        mroute = mgrf.findall(f'LIST_G_MASTER_VALUE_ORDER/G_MASTER_VALUE_ORDER/LIST_G_LAST_YEAR_01/G_LAST_YEAR_01/LIST_G_CROSS/G_CROSS/LIST_G_MASTER_VALUE/G_MASTER_VALUE[{lf}]/LIST_G_HEADING_1_ORDER/G_HEADING_1_ORDER/LIST_G_SUM_AMOUNT/G_SUM_AMOUNT/SUM_AMOUNT')\n",
    "#         total rooms\n",
    "        statistics[1].append(mroute[0].text)\n",
    "#     elif linefind[lf].text == '80000':\n",
    "#         mroute = mgrf.findall(f'LIST_G_MASTER_VALUE_ORDER/G_MASTER_VALUE_ORDER/LIST_G_LAST_YEAR_01/G_LAST_YEAR_01/LIST_G_CROSS/G_CROSS/LIST_G_MASTER_VALUE/G_MASTER_VALUE[{lf}]/LIST_G_HEADING_1_ORDER/G_HEADING_1_ORDER/LIST_G_SUM_AMOUNT/G_SUM_AMOUNT/SUM_AMOUNT')\n",
    "#         print(f'House Use {mroute[0].text}')\n",
    "    elif linefind[lf].text == '860000':\n",
    "        mroute = mgrf.findall(f'LIST_G_MASTER_VALUE_ORDER/G_MASTER_VALUE_ORDER/LIST_G_LAST_YEAR_01/G_LAST_YEAR_01/LIST_G_CROSS/G_CROSS/LIST_G_MASTER_VALUE/G_MASTER_VALUE[{lf}]/LIST_G_HEADING_1_ORDER/G_HEADING_1_ORDER/LIST_G_SUM_AMOUNT/G_SUM_AMOUNT/SUM_AMOUNT')\n",
    "        statistics[0].append(mroute[0].text)\n",
    "    elif linefind[lf].text == '300000':\n",
    "        mroute = mgrf.findall(f'LIST_G_MASTER_VALUE_ORDER/G_MASTER_VALUE_ORDER/LIST_G_LAST_YEAR_01/G_LAST_YEAR_01/LIST_G_CROSS/G_CROSS/LIST_G_MASTER_VALUE/G_MASTER_VALUE[{lf}]/LIST_G_HEADING_1_ORDER/G_HEADING_1_ORDER/LIST_G_SUM_AMOUNT/G_SUM_AMOUNT/SUM_AMOUNT')\n",
    "        statistics[2].append(f'{mroute[0].text}%')\n",
    "    else:\n",
    "        pass\n"
   ]
  },
  {
   "cell_type": "code",
   "execution_count": null,
   "metadata": {},
   "outputs": [],
   "source": []
  },
  {
   "cell_type": "code",
   "execution_count": 4,
   "metadata": {},
   "outputs": [
    {
     "name": "stdout",
     "output_type": "stream",
     "text": [
      "<xml.etree.ElementTree.ElementTree object at 0x0000026D5B165088>\n"
     ]
    }
   ],
   "source": [
    "# credit cards\n",
    "\n",
    "ccx = 'cred.xml'\n",
    "ccz = os.path.join('xmltut',ccx)\n",
    "ccf = ElementTree.parse(ccz)\n",
    "print(ccf)\n",
    "\n",
    "cctotal = ccf.findall('R_CREDIT')\n",
    "statistics[3].append(cctotal[0].text)"
   ]
  },
  {
   "cell_type": "code",
   "execution_count": 5,
   "metadata": {},
   "outputs": [
    {
     "data": {
      "text/plain": [
       "[['Total Revenue', '0'],\n",
       " ['Total Rooms Reserved', '0'],\n",
       " ['% of Rooms Occupied', '0%'],\n",
       " ['Opera CC Total', '8046.6']]"
      ]
     },
     "execution_count": 5,
     "metadata": {},
     "output_type": "execute_result"
    }
   ],
   "source": [
    "statistics"
   ]
  },
  {
   "cell_type": "code",
   "execution_count": 6,
   "metadata": {},
   "outputs": [
    {
     "name": "stdout",
     "output_type": "stream",
     "text": [
      "<xml.etree.ElementTree.ElementTree object at 0x0000026D5D086748>\n"
     ]
    }
   ],
   "source": [
    "# detailed availability\n",
    "detailedavail = [['DETAILED AVAILABILITY as of',audited],['QBS'],['SJR'],['VIP'],['TOTAL']]\n",
    "detavx = 'detav.xml'\n",
    "detavz = os.path.join('xmltut',detavx)\n",
    "detavf = ElementTree.parse(detavz)\n",
    "print(detavf)\n",
    "\n",
    "detroute = 'LIST_G_5/G_5/LIST_DAY/DAY[1]/'\n",
    "dater = detavf.findall(f'{detroute}BUSINESS_DATE')\n",
    "\n",
    "numeros = []\n",
    "for zz in range(1,6):\n",
    "    subdetroute = f'{detroute}LIST_ROOM_TYPE/ROOM_TYPE'\n",
    "    numrooms = detavf.findall(f'{subdetroute}{[zz]}/LIST_DETAIL/DETAIL/NO_OF_ROOMS1')\n",
    "    numeros.append(int(numrooms[0].text))\n",
    "\n",
    "qbs = str(numeros[0] + numeros[-1])\n",
    "vip = str(numeros[2] + numeros[3])\n",
    "detailedavail[1].append(qbs)\n",
    "detailedavail[2].append(numeros[1])\n",
    "detailedavail[3].append(vip)\n",
    "detailedavail[4].append(sum(numeros))\n",
    "\n"
   ]
  },
  {
   "cell_type": "code",
   "execution_count": 7,
   "metadata": {},
   "outputs": [
    {
     "name": "stdout",
     "output_type": "stream",
     "text": [
      "[['DETAILED AVAILABILITY as of', '01/01/21'], ['QBS', '121'], ['SJR', 2], ['VIP', '3'], ['TOTAL', 126]]\n"
     ]
    }
   ],
   "source": [
    "print(detailedavail)"
   ]
  },
  {
   "cell_type": "code",
   "execution_count": null,
   "metadata": {},
   "outputs": [],
   "source": []
  },
  {
   "cell_type": "code",
   "execution_count": null,
   "metadata": {},
   "outputs": [],
   "source": []
  },
  {
   "cell_type": "code",
   "execution_count": 8,
   "metadata": {},
   "outputs": [
    {
     "name": "stdout",
     "output_type": "stream",
     "text": [
      "<xml.etree.ElementTree.ElementTree object at 0x0000026D5D39BF48>\n"
     ]
    }
   ],
   "source": [
    "# zero rate\n",
    "\n",
    "zerox = 'zero.xml'\n",
    "zeroz = os.path.join('xmltut',zerox)\n",
    "zerof = ElementTree.parse(zeroz)\n",
    "print(zerof)"
   ]
  },
  {
   "cell_type": "code",
   "execution_count": 9,
   "metadata": {},
   "outputs": [
    {
     "name": "stdout",
     "output_type": "stream",
     "text": [
      "Guest 9000 // Lobby service\n",
      "No.of nights 693\n",
      "\n",
      "Guest 9010 // Sales Account\n",
      "No.of nights 80\n",
      "\n"
     ]
    }
   ],
   "source": [
    "zeroRateRooms = [['House Use and Comp Use','Room No.', 'Nights']]\n",
    "roomhold = zerof.findall('LIST_G_ROOM/G_ROOM')\n",
    "for zr in range(1,(len(roomhold)+1)):\n",
    "    zeroroute = f'LIST_G_ROOM/G_ROOM[{zr}]'\n",
    "    roomno = zerof.findall(f'{zeroroute}/ROOM')\n",
    "    arrdate = zerof.findall(f'{zeroroute}/ARR')\n",
    "    depdate = zerof.findall(f'{zeroroute}/DEP')\n",
    "    guest = zerof.findall(f'{zeroroute}/GUEST_NAME')\n",
    "    \n",
    "    strArrdate = arrdate[0].text\n",
    "    arrdateM = strArrdate[0]+strArrdate[1]\n",
    "    arrdateD = strArrdate[3]+strArrdate[4]\n",
    "    arrdateY = strArrdate[6]+strArrdate[7]\n",
    "    \n",
    "    strDepdate = depdate[0].text\n",
    "    DepdateM = strDepdate[0]+strDepdate[1]\n",
    "    DepdateD = strDepdate[3]+strDepdate[4]\n",
    "    DepdateY = strDepdate[6]+strDepdate[7]\n",
    "    \n",
    "    from datetime import datetime\n",
    "    date_format = \"%m/%d/%Y\"\n",
    "    a = datetime.strptime(f'{arrdateM}/{arrdateD}/20{arrdateY}', date_format)\n",
    "    b = datetime.strptime(f'{DepdateM}/{DepdateD}/20{DepdateY}', date_format)\n",
    "    delta = b-a\n",
    "    \n",
    "    houseUseEntry = []\n",
    "    houseUseEntry.append(guest[0].text)\n",
    "    houseUseEntry.append(roomno[0].text)\n",
    "    houseUseEntry.append(delta.days)\n",
    "    \n",
    "    zeroRateRooms.append(houseUseEntry)\n",
    "\n",
    "    print(f'Guest {roomno[0].text} // {guest[0].text}')\n",
    "    print (f'No.of nights {delta.days}\\n')"
   ]
  },
  {
   "cell_type": "code",
   "execution_count": 10,
   "metadata": {},
   "outputs": [
    {
     "data": {
      "text/plain": [
       "[['House Use and Comp Use', 'Room No.', 'Nights'],\n",
       " ['Lobby service', '9000', 693],\n",
       " ['Sales Account', '9010', 80]]"
      ]
     },
     "execution_count": 10,
     "metadata": {},
     "output_type": "execute_result"
    }
   ],
   "source": [
    "zeroRateRooms"
   ]
  },
  {
   "cell_type": "code",
   "execution_count": 5,
   "metadata": {},
   "outputs": [
    {
     "name": "stdout",
     "output_type": "stream",
     "text": [
      "were there special Events tonight? - type <y> or type <n>: y'\n",
      "y Or n only please\n",
      "were there special Events tonight? - type <y> or type <n>: y\n",
      "please list the name of the event:n\n",
      "Please list the location of the event or * if you listed the wrong location : o\n",
      "event: n // location: o\n",
      "is this correct - type <y> or type <n>: y\n",
      "cool!\n",
      "Anymore Events? - type <y> or type <n>: y\n",
      "please list the name of the event:t\n",
      "Please list the location of the event or * if you listed the wrong location : y\n",
      "event: t // location: y\n",
      "is this correct - type <y> or type <n>: y\n",
      "cool!\n",
      "Anymore Events? - type <y> or type <n>: n\n",
      "[['Special events', 'Location'], ['n', 'o'], ['t', 'y']]\n",
      "is this information correct - type <y> or type <n>: n\n",
      "1....['n', 'o']\n",
      "2....['t', 'y']\n",
      "3....all\n",
      "['1', '2']\n",
      "Type the no. of the wrong entry: 2\n",
      "[['Special events', 'Location'], ['n', 'o']]\n",
      "Anymore Events? - type <y> or type <n>: n\n",
      "[['Special events', 'Location'], ['n', 'o']]\n",
      "is this information correct - type <y> or type <n>: y\n",
      "great\n"
     ]
    }
   ],
   "source": [
    "# special events entry\n",
    "specevBox = [['Special events','Location']]\n",
    "empty = ['None']\n",
    "evtHead =['Special events','Location']    \n",
    "\n",
    "choices=[]\n",
    "\n",
    "def specEvQ():\n",
    "    specev = input('were there special Events tonight? - type <y> or type <n>: ')\n",
    "    if specev == 'y':\n",
    "        eventLister()\n",
    "    elif specev == 'n':\n",
    "        specevBox.append(empty)\n",
    "        print('Ok cool')\n",
    "    else:\n",
    "        print('y Or n only please')\n",
    "        specEvQ()\n",
    "            \n",
    "def eventLister():\n",
    "\n",
    "    \n",
    "    def infosure():\n",
    "        sure = input('is this correct - type <y> or type <n>: ')\n",
    "        if sure == 'y':\n",
    "            print('cool!')\n",
    "        elif sure =='n':\n",
    "            eventLister()\n",
    "        else:\n",
    "            infosure()\n",
    "    specevlister = []        \n",
    "    eventName = input('please list the name of the event or <*> if there are no events at all:')\n",
    "    \n",
    "    if eventName == '*':\n",
    "        specEvQ()\n",
    "    \n",
    "    location = input('Please list the location of the event or * if you listed the wrong location : ')\n",
    "    \n",
    "    if location == '*':\n",
    "        eventLister()\n",
    "    print(f'event: {eventName} // location: {location}')\n",
    "    \n",
    "    infosure()\n",
    "\n",
    "    specevlister.append(eventName)\n",
    "    specevlister.append(location)\n",
    "    specevBox.append(specevlister)\n",
    "\n",
    "\n",
    "    def singler():\n",
    "        for x in range (1,(len(specevBox))):\n",
    "            print(f'{x}....{specevBox[x]}')\n",
    "            choices.append(str(x))\n",
    "        print(f'{len(specevBox)}....all')\n",
    "        print(choices)\n",
    "\n",
    "        allorNah = input('Type the no. of the wrong entry: ')\n",
    "        E = allorNah in choices\n",
    "        if allorNah == str(len(specevBox)):\n",
    "            specevBox.clear()\n",
    "            specevBox.append(evtHead)\n",
    "            morevents()\n",
    "        elif E is True:\n",
    "            specevBox.pop(int(allorNah))\n",
    "            print(specevBox)\n",
    "            morevents()\n",
    "        else:\n",
    "            print('try again please')\n",
    "            singler()\n",
    "    \n",
    "    def moreP():\n",
    "        morepop =  input('any more - type <y> or type <n>:')\n",
    "        if morepop == 'y':\n",
    "            singler()\n",
    "        elif morepop == 'n':\n",
    "            print('great')\n",
    "            print(specevBox)\n",
    "        else:\n",
    "            print('y Or n only please')\n",
    "            moreP()\n",
    "            \n",
    "    def morevents():\n",
    "        more = input('Anymore Events? - type <y> or type <n>: ')\n",
    "        if more == 'y':\n",
    "            eventLister()\n",
    "        elif more == 'n':\n",
    "            print(specevBox)\n",
    "            sure = input('is this information correct - type <y> or type <n>: ')\n",
    "            if sure == 'y':\n",
    "                print('great')\n",
    "            elif sure == 'n':\n",
    "                if len(specevBox)>2:\n",
    "                    singler()\n",
    "                elif len(specevBox) == 2:\n",
    "                    specevBox.clear()\n",
    "                    specevBox.append(evtHead)\n",
    "                    specEvQ()\n",
    "            else:\n",
    "                print('y Or n only please')\n",
    "                morevents()\n",
    "        else:\n",
    "            print('y Or n only please')\n",
    "            morevents()\n",
    "    \n",
    "    morevents()       \n",
    "specEvQ()"
   ]
  },
  {
   "cell_type": "code",
   "execution_count": null,
   "metadata": {},
   "outputs": [],
   "source": []
  },
  {
   "cell_type": "code",
   "execution_count": null,
   "metadata": {},
   "outputs": [],
   "source": [
    "d = [1,3]\n",
    "x= 2\n",
    "x in d is True"
   ]
  },
  {
   "cell_type": "code",
   "execution_count": null,
   "metadata": {},
   "outputs": [],
   "source": [
    "specevBox"
   ]
  },
  {
   "cell_type": "code",
   "execution_count": 3,
   "metadata": {},
   "outputs": [
    {
     "name": "stdout",
     "output_type": "stream",
     "text": [
      "1\n"
     ]
    }
   ],
   "source": [
    "choices = ['1', '2']\n",
    "allorNah = '1'\n",
    "x =  allorNah in choices\n",
    "if x is True:\n",
    "    print(allorNah)\n",
    "    "
   ]
  },
  {
   "cell_type": "code",
   "execution_count": 8,
   "metadata": {},
   "outputs": [
    {
     "name": "stdout",
     "output_type": "stream",
     "text": [
      "Were there walks tonight? - type <y> or type <n>:y\n",
      "type Guest name in <last name , first name>, if previous entry is wrong type<*>: 1\n",
      "type Reservation no. here, if previous entry is wrong type<*>:2\n",
      "type the Hotel guest was walked to here, if previous entry is wrong type<*>:3\n",
      "type Company here, if previous entry is wrong type<*>:4\n",
      "type Group here, if previous entry is wrong type<*>:5\n",
      "type Travel agent here, if previous entry is wrong type<*>:5\n",
      "is this entry Correct - <y> or <n>: y\n",
      "0....1\n",
      "1....2\n",
      "2....3\n",
      "3....4\n",
      "4....5\n",
      "5....5\n",
      "is this correct? <y> or <n>n\n",
      "type the line of the entry you wish to edit: 3\n",
      "type new info here: fasfasdff\n",
      "0....1\n",
      "1....2\n",
      "2....3\n",
      "3....fasfasdff\n",
      "4....5\n",
      "5....5\n",
      "is this correct? <y> or <n>n\n",
      "type the line of the entry you wish to edit: 0\n",
      "type new info here: chico\n",
      "0....chico\n",
      "1....2\n",
      "2....3\n",
      "3....fasfasdff\n",
      "4....5\n",
      "5....5\n",
      "is this correct? <y> or <n>y\n",
      "are there any more walks ? - type <y> or <n>: y\n",
      "type Guest name in <last name , first name>, if previous entry is wrong type<*>: chic\n",
      "type Reservation no. here, if previous entry is wrong type<*>:2143\n",
      "type the Hotel guest was walked to here, if previous entry is wrong type<*>:sosh\n",
      "type Company here, if previous entry is wrong type<*>:greeou\n",
      "type Group here, if previous entry is wrong type<*>:2ew\n",
      "type Travel agent here, if previous entry is wrong type<*>:fasff\n",
      "is this entry Correct - <y> or <n>: y\n",
      "0....chic\n",
      "1....2143\n",
      "2....sosh\n",
      "3....greeou\n",
      "4....2ew\n",
      "5....fasff\n",
      "is this correct? <y> or <n>y\n",
      "are there any more walks ? - type <y> or <n>: n\n",
      "great!\n"
     ]
    }
   ],
   "source": [
    "# walks res hote company  group  travagt\n",
    "mainWalkData = [['Walked','Reservation No.','Hotel','Company','Group','Travel Agent']]\n",
    "def walkerQ():\n",
    "    walks = input('Were there walks tonight? - type <y> or type <n>:')\n",
    "    if walks == 'n':\n",
    "        print('cool!')\n",
    "    elif walks == 'y':\n",
    "        walkEntry()\n",
    "    else:\n",
    "        walkerQ()\n",
    "\n",
    "def walkEntry():\n",
    "    walkData =[]\n",
    "    def nameEntry():\n",
    "        name = input('type Guest name in <last name , first name>, if previous entry is wrong type<*>: ')\n",
    "        if name == '*':\n",
    "            walkerQ()\n",
    "        else:\n",
    "            walkData.append(name)\n",
    "    def resNoEntry():\n",
    "        resNo = input('type Reservation no. here, if previous entry is wrong type<*>:')\n",
    "        if resNo == '*':\n",
    "            nameEntry()\n",
    "        else:\n",
    "            walkData.append(resNo)\n",
    "    def hotelEntry():\n",
    "        hotel = input('type the Hotel guest was walked to here, if previous entry is wrong type<*>:')\n",
    "        if hotel == '*':\n",
    "            resNoEntry()\n",
    "        else:\n",
    "            walkData.append(hotel)\n",
    "    def companyEntry():\n",
    "        company = input('type Company here, if previous entry is wrong type<*>:')\n",
    "        if company == '*':\n",
    "            hotelEntry()\n",
    "        else:\n",
    "            walkData.append(company)\n",
    "    def groupEntry():\n",
    "        group = input('type Group here, if previous entry is wrong type<*>:')\n",
    "        if group == '*':\n",
    "            companyEntry()\n",
    "        else:\n",
    "            walkData.append(group)\n",
    "    def travEntry():\n",
    "        trav = input('type Travel agent here, if previous entry is wrong type<*>:')\n",
    "        \n",
    "        def travCorr():\n",
    "            travcheck = input('is this entry Correct - <y> or <n>: ')\n",
    "            if travcheck == 'y':\n",
    "                walkData.append(trav)\n",
    "            elif travcheck == 'n':\n",
    "                travEntry()\n",
    "            else:\n",
    "                print('y or n only')\n",
    "                travCorr()\n",
    "        if trav == '*':\n",
    "            groupEntry()\n",
    "        else:\n",
    "            travCorr()\n",
    "        \n",
    "\n",
    "    \n",
    "    def walkDataCk():\n",
    "        for w in range(len(walkData)):\n",
    "            print(f'{w}....{walkData[w]}')\n",
    "        checker = input('is this correct? <y> or <n>')\n",
    "\n",
    "        if checker =='y':\n",
    "            mainWalkData.append(walkData)\n",
    "            morewalks()\n",
    "        elif checker == 'n':\n",
    "            walkDataCorr()\n",
    "        else:\n",
    "            print('try again!')\n",
    "            walkDataCk()\n",
    "                \n",
    "    def walkDataCorr():\n",
    "        while True:\n",
    "            try:\n",
    "                correntry = int(input('type the line of the entry you wish to edit: '))\n",
    "                if correntry < 6:\n",
    "                    newEntry = input('type new info here: ')\n",
    "                    walkData[correntry] = newEntry\n",
    "                    walkDataCk()\n",
    "                else:\n",
    "                    walkDataCorr()\n",
    "            except:\n",
    "                print('Exceptumondo Dude! this thing just takes numbers!!!Try again!')\n",
    "                walkDataCorr()\n",
    "                break\n",
    "            else:\n",
    "                break\n",
    "                \n",
    "    def morewalks():\n",
    "        anymoreW = input('are there any more walks ? - type <y> or <n>: ')\n",
    "        if anymoreW == 'y':\n",
    "            walkEntry()\n",
    "        elif anymoreW == 'n':\n",
    "            print('great!')\n",
    "            \n",
    "    nameEntry()\n",
    "    resNoEntry()\n",
    "    hotelEntry()\n",
    "    companyEntry()\n",
    "    groupEntry()\n",
    "    travEntry()\n",
    "    \n",
    "    walkDataCk()\n",
    "    \n",
    "walkerQ()"
   ]
  },
  {
   "cell_type": "code",
   "execution_count": 9,
   "metadata": {},
   "outputs": [
    {
     "data": {
      "text/plain": [
       "[['Walked', 'Reservation No.', 'Hotel', 'Company', 'Group'],\n",
       " ['chico', '2', '3', 'fasfasdff', '5', '5'],\n",
       " ['chic', '2143', 'sosh', 'greeou', '2ew', 'fasff']]"
      ]
     },
     "execution_count": 9,
     "metadata": {},
     "output_type": "execute_result"
    }
   ],
   "source": [
    "mainWalkData"
   ]
  },
  {
   "cell_type": "code",
   "execution_count": 10,
   "metadata": {},
   "outputs": [
    {
     "name": "stdout",
     "output_type": "stream",
     "text": [
      "Were there late cancellations tonight? - type <y> or type <n>:y\n",
      "type Guest name in <last name , first name>, if previous entry is wrong type<*>: fafasf\n",
      "type the Hotel guest was lateCxled to here, if previous entry is wrong type<*>:we\n",
      "type Reservation no. here, if previous entry is wrong type<*>:erwfw\n",
      "type Company here, if previous entry is wrong type<*>:af\n",
      "type Group here, if previous entry is wrong type<*>:fdsf\n",
      "type Travel agent here, if previous entry is wrong type<*>:*\n",
      "type Group here, if previous entry is wrong type<*>:*\n",
      "type Company here, if previous entry is wrong type<*>:*\n",
      "type Reservation no. here, if previous entry is wrong type<*>:*\n",
      "type the Hotel guest was lateCxled to here, if previous entry is wrong type<*>:*\n",
      "type Guest name in <last name , first name>, if previous entry is wrong type<*>: \n",
      "0....fafasf\n",
      "1....we\n",
      "2....erwfw\n",
      "3....af\n",
      "4....fdsf\n",
      "5....\n",
      "is this correct? <y> or <n>n\n",
      "type the line of the entry you wish to edit: 5\n",
      "type new info here: trav\n",
      "0....fafasf\n",
      "1....we\n",
      "2....erwfw\n",
      "3....af\n",
      "4....fdsf\n",
      "5....trav\n",
      "is this correct? <y> or <n>y\n",
      "are there any more lateCxls ? - type <y> or <n>: n\n",
      "great!\n"
     ]
    }
   ],
   "source": [
    "# Late Cancellation    //  Reason ReservationNO Company Group Travel Agent\n",
    "\n",
    "# lateCxls res hote company  group  travagt\n",
    "mainlateCxlData = [['Late Cancellation','Reason','Reservation No.','Company','Group','Travel Agent']]\n",
    "def lateCxlerQ():\n",
    "    lateCxls = input('Were there late cancellations tonight? - type <y> or type <n>:')\n",
    "    if lateCxls == 'n':\n",
    "        print('cool!')\n",
    "    elif lateCxls == 'y':\n",
    "        lateCxlEntry()\n",
    "    else:\n",
    "        lateCxlerQ()\n",
    "\n",
    "def lateCxlEntry():\n",
    "    lateCxlData =[]\n",
    "    def LatenameEntry():\n",
    "        name = input('type Guest name in <last name , first name>, if previous entry is wrong type<*>: ')\n",
    "        if name == '*':\n",
    "            lateCxlerQ()\n",
    "        else:\n",
    "            lateCxlData.append(name)\n",
    "\n",
    "    def reasonEntry():\n",
    "        hotel = input('type the Reason for the lateCxl to here, if previous entry is wrong type<*>:')\n",
    "        if hotel == '*':\n",
    "            LatenameEntry()\n",
    "        else:\n",
    "            lateCxlData.append(hotel)\n",
    "\n",
    "    def lateResNoEntry():\n",
    "        resNo = input('type Reservation no. here, if previous entry is wrong type<*>:')\n",
    "        if resNo == '*':\n",
    "            reasonEntry()\n",
    "        else:\n",
    "            lateCxlData.append(resNo)\n",
    "\n",
    "    def LatecompanyEntry():\n",
    "        company = input('type Company here, if previous entry is wrong type<*>:')\n",
    "        if company == '*':\n",
    "            lateResNoEntry()\n",
    "        else:\n",
    "            lateCxlData.append(company)\n",
    "    def LateGroupEntry():\n",
    "        group = input('type Group here, if previous entry is wrong type<*>:')\n",
    "        if group == '*':\n",
    "            LatecompanyEntry()\n",
    "        else:\n",
    "            lateCxlData.append(group)\n",
    "    def LatetravEntry():\n",
    "        trav = input('type Travel agent here, if previous entry is wrong type<*>:')\n",
    "        \n",
    "        def travCorr():\n",
    "            travcheck = input('is this entry Correct - <y> or <n>: ')\n",
    "            if travcheck == 'y':\n",
    "                lateCxlData.append(trav)\n",
    "            elif travcheck == 'n':\n",
    "                LatetravEntry()\n",
    "            else:\n",
    "                print('y or n only')\n",
    "                travCorr()\n",
    "        if trav == '*':\n",
    "            LateGroupEntry()\n",
    "        else:\n",
    "            travCorr()\n",
    "        \n",
    "\n",
    "    \n",
    "    def lateCxlDataCk():\n",
    "        for w in range(len(lateCxlData)):\n",
    "            print(f'{w}....{lateCxlData[w]}')\n",
    "        checker = input('is this correct? <y> or <n>')\n",
    "\n",
    "        if checker =='y':\n",
    "            mainlateCxlData.append(lateCxlData)\n",
    "            morelateCxls()\n",
    "        elif checker == 'n':\n",
    "            lateCxlDataCorr()\n",
    "        else:\n",
    "            print('try again!')\n",
    "            lateCxlDataCk()\n",
    "                \n",
    "    def lateCxlDataCorr():\n",
    "        while True:\n",
    "            try:\n",
    "                correntry = int(input('type the line of the entry you wish to edit: '))\n",
    "                if correntry < 6:\n",
    "                    newEntry = input('type new info here: ')\n",
    "                    lateCxlData[correntry] = newEntry\n",
    "                    lateCxlDataCk()\n",
    "                else:\n",
    "                    lateCxlDataCorr()\n",
    "            except:\n",
    "                print('Exceptumondo Dude! this thing just takes numbers!!!Try again!')\n",
    "                lateCxlDataCorr()\n",
    "                break\n",
    "            else:\n",
    "                break\n",
    "                \n",
    "    def morelateCxls():\n",
    "        anymoreW = input('are there any more lateCxls ? - type <y> or <n>: ')\n",
    "        if anymoreW == 'y':\n",
    "            lateCxlEntry()\n",
    "        elif anymoreW == 'n':\n",
    "            print('great!')\n",
    "            \n",
    "    LatenameEntry()\n",
    "    reasonEntry()    \n",
    "    lateResNoEntry()\n",
    "    LatecompanyEntry()\n",
    "    LateGroupEntry()\n",
    "    LatetravEntry()\n",
    "    \n",
    "    lateCxlDataCk()\n",
    "    \n",
    "lateCxlerQ()"
   ]
  },
  {
   "cell_type": "code",
   "execution_count": 11,
   "metadata": {},
   "outputs": [
    {
     "data": {
      "text/plain": [
       "[['Late Cancellation',\n",
       "  'Reason',\n",
       "  'Reservation No.',\n",
       "  'Company',\n",
       "  'Group',\n",
       "  'Travel Agent'],\n",
       " ['fafasf', 'we', 'erwfw', 'af', 'fdsf', 'trav']]"
      ]
     },
     "execution_count": 11,
     "metadata": {},
     "output_type": "execute_result"
    }
   ],
   "source": [
    "mainlateCxlData"
   ]
  },
  {
   "cell_type": "code",
   "execution_count": null,
   "metadata": {},
   "outputs": [],
   "source": [
    "forecasttitle = ['Forecast for the following 7 Days']"
   ]
  },
  {
   "cell_type": "code",
   "execution_count": 12,
   "metadata": {},
   "outputs": [
    {
     "name": "stdout",
     "output_type": "stream",
     "text": [
      "<xml.etree.ElementTree.ElementTree object at 0x00000233CFDADBC8>\n"
     ]
    }
   ],
   "source": [
    "# history and forecast report\n",
    "\n",
    "import os\n",
    "from xml.etree import ElementTree\n",
    "# hist and forec data\n",
    "forecastx = 'forecast2.xml'\n",
    "forecastz = os.path.join('xmltut',forecastx)\n",
    "forecastf = ElementTree.parse(forecastz)\n",
    "print(forecastf)"
   ]
  },
  {
   "cell_type": "code",
   "execution_count": 19,
   "metadata": {},
   "outputs": [],
   "source": [
    "# Date Occupancy RMS RSVD Arrivals Departures Avg. Rate\n",
    "mainForecastList = [['Date',' Occupancy','RMS','RSVD','Arrivals','Departures','Avg. Rate']]\n",
    "\n",
    "for x in range(2,9):\n",
    "    forecastentry = []\n",
    "    route = f'LIST_G_GPAGEID/G_GPAGEID/LIST_G_REC_TYPE/G_REC_TYPE[2]/LIST_G_CONSIDERED_DATE/G_CONSIDERED_DATE[{x}]/'\n",
    "    dates = forecastf.findall(f'{route}CHAR_CONSIDERED_DATE')\n",
    "    occ = forecastf.findall(f'{route}CF_OCCUPANCY')\n",
    "    rmsres = forecastf.findall(f'{route}NO_ROOMS')\n",
    "    arrs = forecastf.findall(f'{route}ARRIVAL_ROOMS')\n",
    "    deps = forecastf.findall(f'{route}DEPARTURE_ROOMS')\n",
    "    avgr = forecastf.findall(f'{route}CF_AVERAGE_ROOM_RATE')\n",
    "    \n",
    "    \n",
    "    for c in dates:\n",
    "        forecastentry.append(c.text)\n",
    "\n",
    "    for d in occ:\n",
    "        forecastentry.append(f'{d.text}%')\n",
    "\n",
    "    for e in rmsres:\n",
    "        forecastentry.append(e.text)\n",
    "\n",
    "    for f in arrs:\n",
    "        forecastentry.append(f.text)\n",
    "\n",
    "    for g in deps:\n",
    "        forecastentry.append(g.text)\n",
    "\n",
    "    for h in deps:\n",
    "        forecastentry.append(h.text)\n",
    "        \n",
    "    for i in avgr:\n",
    "        forecastentry.append(f'${i.text}')\n",
    "    mainForecastList.append(forecastentry)\n"
   ]
  },
  {
   "cell_type": "code",
   "execution_count": 20,
   "metadata": {},
   "outputs": [
    {
     "data": {
      "text/plain": [
       "['01-06-21 Wed', '0%', '0', '0', '0', '0', '$0']"
      ]
     },
     "execution_count": 20,
     "metadata": {},
     "output_type": "execute_result"
    }
   ],
   "source": [
    "\n",
    "forecastentry\n"
   ]
  },
  {
   "cell_type": "code",
   "execution_count": 21,
   "metadata": {},
   "outputs": [
    {
     "data": {
      "text/plain": [
       "[['Date', ' Occupancy', 'RMS', 'RSVD', 'Arrivals', 'Departures', 'Avg. Rate'],\n",
       " ['12-31-20 Thu', '0%', '0', '0', '0', '0', '$0'],\n",
       " ['01-01-21 Fri', '0%', '0', '0', '0', '0', '$0'],\n",
       " ['01-02-21 Sat', '0%', '0', '0', '0', '0', '$0'],\n",
       " ['01-03-21 Sun', '0%', '0', '0', '0', '0', '$0'],\n",
       " ['01-04-21 Mon', '0%', '0', '0', '0', '0', '$0'],\n",
       " ['01-05-21 Tue', '0%', '0', '0', '0', '0', '$0'],\n",
       " ['01-06-21 Wed', '0%', '0', '0', '0', '0', '$0']]"
      ]
     },
     "execution_count": 21,
     "metadata": {},
     "output_type": "execute_result"
    }
   ],
   "source": [
    "mainForecastList"
   ]
  },
  {
   "cell_type": "code",
   "execution_count": null,
   "metadata": {},
   "outputs": [],
   "source": []
  }
 ],
 "metadata": {
  "kernelspec": {
   "display_name": "Python 3",
   "language": "python",
   "name": "python3"
  },
  "language_info": {
   "codemirror_mode": {
    "name": "ipython",
    "version": 3
   },
   "file_extension": ".py",
   "mimetype": "text/x-python",
   "name": "python",
   "nbconvert_exporter": "python",
   "pygments_lexer": "ipython3",
   "version": "3.7.6"
  }
 },
 "nbformat": 4,
 "nbformat_minor": 4
}
