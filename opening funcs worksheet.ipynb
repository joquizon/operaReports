{
 "cells": [
  {
   "cell_type": "code",
   "execution_count": 3,
   "metadata": {},
   "outputs": [],
   "source": [
    "labelfont = 'helvetica 12 italic'\n",
    "labelFG = 'gray26'\n",
    "labelBG  = 'white'\n",
    "inputfont = 'helvetica 14'\n",
    "inputFG = 'black'\n",
    "inputBG = 'gray91'\n",
    "inputBG2 = 'gray70'\n",
    "paddingX =2\n",
    "paddingY =5\n"
   ]
  },
  {
   "cell_type": "code",
   "execution_count": 4,
   "metadata": {},
   "outputs": [],
   "source": [
    "import tkinter \n",
    "from tkinter import *\n",
    "entryName = []\n",
    "def enterName():\n",
    "    window = Tk()\n",
    "    # creates title in window border\n",
    "    window.title('OPERA Night Audit Manager Pack creator')\n",
    "    window.configure(background ='white')\n",
    "    window.geometry('235x175')\n",
    "\n",
    "    def name(x):\n",
    "        usergot = username.get()\n",
    "        entryName.append(usergot)\n",
    "        window.destroy()\n",
    "    \n",
    "    username = Entry(window, bg='gray64',fg=inputFG ,font = inputfont, justify = 'center')\n",
    "    username.grid(row = 1, column = 0,padx =5, pady=20, sticky = N)\n",
    "    \n",
    "    lbl1 = Label (window, text='Enter\\nFull Name\\nplease ',bg = labelBG, fg='black', font='helvetica 15 italic')\n",
    "    lbl1.grid (row = 0,column='0',padx = 5,pady=10, sticky = N)\n",
    "\n",
    "\n",
    "    username.bind('<Return>',name)\n",
    "    window.mainloop()\n",
    "enterName()"
   ]
  },
  {
   "cell_type": "code",
   "execution_count": null,
   "metadata": {},
   "outputs": [],
   "source": []
  },
  {
   "cell_type": "code",
   "execution_count": 5,
   "metadata": {},
   "outputs": [
    {
     "name": "stdout",
     "output_type": "stream",
     "text": [
      "Error!check folder names\n"
     ]
    }
   ],
   "source": [
    "import os\n",
    "from datetime import datetime\n",
    "from datetime import date\n",
    "from datetime import timedelta\n",
    "import PyPDF2\n",
    "from PyPDF2 import PdfFileMerger\n",
    "Targfold=['x']\n",
    "\n",
    "# creates the folder\n",
    "def createFolder():\n",
    "    today = date.today()\n",
    "    audited = ((today - timedelta(days = 1)).strftime('%x'))\n",
    "    directory = audited.replace('/','')\n",
    "    Targfold[0] = directory\n",
    "    already = os.path.exists(directory)\n",
    "    if already is False:\n",
    "        os.makedirs(directory)\n",
    "        print(f'folder {directory} has been created!')\n",
    "    else:\n",
    "        print('Error!check folder names')\n",
    "        \n",
    "createFolder()"
   ]
  },
  {
   "cell_type": "code",
   "execution_count": 6,
   "metadata": {},
   "outputs": [],
   "source": [
    "import tkinter \n",
    "from tkinter import messagebox\n",
    "from tkinter import *\n",
    "\n",
    "def folderMessage():\n",
    "    window = Tk()\n",
    "    # creates title in window border\n",
    "    window.title('OPERA Night Audit Manager Pack creator')\n",
    "    window.configure(background ='white')\n",
    "    window.geometry('150x220')\n",
    "    \n",
    "    def start():\n",
    "        window.destroy()\n",
    "    lbl1 = Label (window, text=f'Download\\nxml and pdf files\\ninto folder\\n{Targfold[0]}',bg = labelBG, fg='black', font='helvetica 14 italic')\n",
    "    lbl1.grid (row = 0,column='0',padx = 0,pady=5, sticky = N)\n",
    "        \n",
    "    start=Button(window, text=f'Files\\nReady',font='helvetica 12 italic',width = 9,height=4,background ='dodger blue' ,command = start) .grid(row= 8, column= 0,padx=0,pady =5, sticky = N)\n",
    "    \n",
    "    window.mainloop()\n",
    "folderMessage()"
   ]
  },
  {
   "cell_type": "code",
   "execution_count": 20,
   "metadata": {},
   "outputs": [
    {
     "name": "stdout",
     "output_type": "stream",
     "text": [
      "6\n",
      "missing XML file\n"
     ]
    }
   ],
   "source": [
    "# mgrx = 'mgr.xml'\n",
    "# ccx = 'cred.xml'\n",
    "# detavx = 'detav.xml'\n",
    "# zerox = 'zero.xml'\n",
    "# taxx = 'taxexempt3.xml'\n",
    "# arrx = 'arr3.xml'\n",
    "# forecastx = 'forecast2.xml'\n",
    "mgrxFile =  []\n",
    "ccxFile =  []\n",
    "detavxFile =  []\n",
    "zeroxFile =  []\n",
    "taxxFile =  []\n",
    "arrxFile =  []\n",
    "forecastxFile =  []\n",
    "\n",
    "fileLocker=[mgrxFile,ccxFile,detavxFile,zeroxFile,taxxFile,arrxFile,forecastxFile]\n",
    "fileLockerSTR=['mgrReport','CC report','det avail','zero rate','tax Exmpt','arrivals','forecast']\n",
    "\n",
    "pdflist = []\n",
    "\n",
    "MissXmlsList = []\n",
    "MissPdflist = []\n",
    "\n",
    "DupXmlsList = []\n",
    "DupPdflist = []\n",
    "\n",
    "filesContained = os.listdir(Targfold[0])\n",
    "\n",
    "\n",
    "def fileMiss(filefunc):\n",
    "    window = Tk()\n",
    "    # creates title in window border\n",
    "    window.title('OPERA Night Audit Manager Pack creator')\n",
    "    window.configure(background ='white')\n",
    "    window.geometry('150x500')\n",
    "    \n",
    "\n",
    "    for missX in range(len(MissXmlsList)):\n",
    "        Label (window, text=f'{missX+1}...{MissXmlsList[missX]}',bg = labelBG, fg='red', font='helvetica 10') .grid (row = missX+1,column='1',padx = 0,pady=0, sticky = W)\n",
    "    for pdfX in range(len(MissPdflist)):\n",
    "        Label (window, text=f'{pdfX+1}...{MissPdflist[missX]}',bg = labelBG, fg='orange red', font='helvetica 10') .grid (row = pdfX+1,column='2',padx = 0,pady=0, sticky = W)\n",
    "    \n",
    "    \n",
    "    def start():\n",
    "        window.destroy()\n",
    "        fileStarter()\n",
    "    lbl1 = Label (window, text=f'///!!!\\\\\\\\nFILE MISSING IN \\n{Targfold[0]}\\ncurrent contents:',bg = labelBG, fg='black', font='helvetica 14 italic')\n",
    "    lbl1.grid (row = 0,column='0',padx = 0,pady=5, sticky = N)\n",
    "        \n",
    "    start=Button(window, text=f'Files\\nReady',font='helvetica 12 italic',width = 9,height=4,background ='dodger blue' ,command = filefunc) .grid(row= 15, column= 0,padx=0,pady =5, sticky = N)\n",
    "    \n",
    "    window.mainloop()\n",
    "\n",
    "\n",
    "\n",
    "\n",
    "\n",
    "\n",
    "\n",
    "\n",
    "\n",
    "def fileStarter():\n",
    "    for file in range(len(filesContained)):\n",
    "        if filesContained[file][0:3] == 'man' and filesContained[file].endswith('xml'):\n",
    "            mgrxFile.append(filesContained[file])\n",
    "            xmlsList.append(filesContained[file])\n",
    "        elif filesContained[file][0:3] == 'fin':\n",
    "            ccxFile.append(filesContained[file])\n",
    "            xmlsList.append(filesContained[file])\n",
    "        elif filesContained[file][0:3] == 'det':\n",
    "            detavxFile.append(filesContained[file])\n",
    "            xmlsList.append(filesContained[file])\n",
    "        elif filesContained[file][0:3] == 'gi_':\n",
    "            zeroxFile.append(filesContained[file])\n",
    "            xmlsList.append(filesContained[file])\n",
    "        elif filesContained[file][0:3] == 'tax':\n",
    "            taxxFile.append(filesContained[file])\n",
    "            xmlsList.append(filesContained[file])\n",
    "        elif filesContained[file][0:3] == 'res' and filesContained[file].endswith('xml'):\n",
    "            arrxFile.append(filesContained[file])\n",
    "            xmlsList.append(filesContained[file])\n",
    "        elif filesContained[file][0:3] == 'his':\n",
    "            forecastxFile.append(filesContained[file])\n",
    "            xmlsList.append(filesContained[file])\n",
    "        else:\n",
    "            pdflist.append(filesContained[file])\n",
    "            \n",
    "    print(len(xmlsList))\n",
    "\n",
    "    for seek in range(len(fileLocker)):\n",
    "        if len(fileLocker[seek]) == 0:\n",
    "            MissXmlsList.append(f'missing {fileLockerSTR[seek]} XML file in folder')\n",
    "            print('missing XML file')\n",
    "        elif len(fileLocker[seek]) >1:\n",
    "            DupXmlsList.append(f'more than 1 {fileLockerSTR[seek]} XML  file in folder ')\n",
    "            print(f'more than 1 {fileLockerSTR[seek]} XML  file in folder ')\n",
    "        else:\n",
    "            pass\n",
    "        \n",
    "    if len(pdflist) <6:\n",
    "        MissPdflist.append('missing PDF file(s)')\n",
    "    elif len(pdflist)>7:\n",
    "        DupPdflist.append('duplicate PDF file(s)')\n",
    "    else:\n",
    "        pass\n",
    "    \n",
    "    if len(MissXmlsList)>0 or len(DupXmlsList)>0 or len(MissPdflist)>0 or len(DupPdflist)>0:\n",
    "        fileMiss(fileStarter)\n",
    "    else:\n",
    "        print(fileLocker)\n",
    "        print(pdflist)\n",
    "    \n",
    "fileStarter()\n"
   ]
  },
  {
   "cell_type": "code",
   "execution_count": 15,
   "metadata": {},
   "outputs": [],
   "source": [
    "            mgrxFile.clear()\n",
    "            ccxFile.clear()\n",
    "            detavxFile.clear()\n",
    "            zeroxFile.clear()\n",
    "            taxxFile.clear()\n",
    "            arrxFile.clear()\n",
    "            forecastxFile.clear()\n",
    "            xmlsList.clear()"
   ]
  },
  {
   "cell_type": "code",
   "execution_count": 16,
   "metadata": {},
   "outputs": [],
   "source": [
    "        mgrxFile.clear()\n",
    "        ccxFile.clear()\n",
    "        detavxFile.clear()\n",
    "        zeroxFile.clear()\n",
    "        taxxFile.clear()\n",
    "        arrxFile.clear()\n",
    "        forecastxFile.clear()\n",
    "        pdflist.clear()"
   ]
  },
  {
   "cell_type": "code",
   "execution_count": 17,
   "metadata": {},
   "outputs": [
    {
     "data": {
      "text/plain": [
       "[]"
      ]
     },
     "execution_count": 17,
     "metadata": {},
     "output_type": "execute_result"
    }
   ],
   "source": [
    "pdflist"
   ]
  },
  {
   "cell_type": "code",
   "execution_count": 18,
   "metadata": {},
   "outputs": [
    {
     "data": {
      "text/plain": [
       "[]"
      ]
     },
     "execution_count": 18,
     "metadata": {},
     "output_type": "execute_result"
    }
   ],
   "source": [
    "fileLocker[2]\n"
   ]
  },
  {
   "cell_type": "code",
   "execution_count": null,
   "metadata": {},
   "outputs": [],
   "source": []
  }
 ],
 "metadata": {
  "kernelspec": {
   "display_name": "Python 3",
   "language": "python",
   "name": "python3"
  },
  "language_info": {
   "codemirror_mode": {
    "name": "ipython",
    "version": 3
   },
   "file_extension": ".py",
   "mimetype": "text/x-python",
   "name": "python",
   "nbconvert_exporter": "python",
   "pygments_lexer": "ipython3",
   "version": "3.7.6"
  }
 },
 "nbformat": 4,
 "nbformat_minor": 4
}
